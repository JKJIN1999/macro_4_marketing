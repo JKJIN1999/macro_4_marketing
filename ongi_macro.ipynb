{
 "cells": [
  {
   "cell_type": "code",
   "execution_count": 1,
   "metadata": {},
   "outputs": [],
   "source": [
    "# 온기디자인 홈페티지 올리는 매크로 입니다.\n",
    "# 문의사항은 JKJIN1999 github repository 또는 jugyeongkim911@gmail.com 으로 문의 부탁드립니다."
   ]
  },
  {
   "cell_type": "code",
   "execution_count": 2,
   "metadata": {},
   "outputs": [],
   "source": [
    "import time\n",
    "import logging\n",
    "from selenium import webdriver\n",
    "from selenium.webdriver.common.by import By\n",
    "import selenium\n",
    "from datetime import datetime"
   ]
  },
  {
   "cell_type": "code",
   "execution_count": 3,
   "metadata": {},
   "outputs": [],
   "source": [
    "#로그 생성\n",
    "logging.basicConfig(\n",
    "    filename=\"./log.txt\",\n",
    "    format='%(asctime)s %(levelname)s:%(message)s',\n",
    "    level=logging.INFO,\n",
    "    datefmt='%m/%d/%Y %I:%M:%S %p',\n",
    ")"
   ]
  },
  {
   "cell_type": "code",
   "execution_count": 4,
   "metadata": {},
   "outputs": [],
   "source": [
    "def naver_page_open():\n",
    "    try:\n",
    "        time.sleep(4)\n",
    "        pageCollected = driver.find_elements(By.XPATH,'/html/body/div[3]/div[2]/div/div[1]/section/div/ul[@class=\"lst_total\"]/li')\n",
    "        for li in pageCollected:\n",
    "            a = li.find_element(By.CLASS_NAME, \"total_wrap\").find_element(By.CLASS_NAME, \"total_group\").find_element(By.CLASS_NAME, \"total_tit\").find_element(By.CLASS_NAME, \"link_tit\")\n",
    "            link_text = a.get_attribute('href')\n",
    "            if link_text == \"https://ongidesignhaus.com/\":\n",
    "                a.click()\n",
    "                time.sleep(2)\n",
    "                break\n",
    "    except:\n",
    "        logging.error(\"Error on naver_page_open function\")\n"
   ]
  },
  {
   "cell_type": "code",
   "execution_count": 5,
   "metadata": {},
   "outputs": [],
   "source": [
    "def google_page_open():\n",
    "    try:\n",
    "        time.sleep(5)\n",
    "        pageCollected = driver.find_elements(By.XPATH,'/html/body/div[3]/div[2]/div/div[1]/section/div/ul[@class=\"lst_total\"]/li')\n",
    "        for li in pageCollected:\n",
    "            a = li.find_element(By.CLASS_NAME, \"total_wrap\").find_element(By.CLASS_NAME, \"total_group\").find_element(By.CLASS_NAME, \"total_tit\").find_element(By.CLASS_NAME, \"link_tit\")\n",
    "            link_text = a.get_attribute('href')\n",
    "            if link_text == \"https://ongidesignhaus.com/\":\n",
    "                a.click()\n",
    "                time.sleep(2)\n",
    "                break\n",
    "    except:\n",
    "        logging.error(\"Error on google_page_open function\")"
   ]
  },
  {
   "cell_type": "code",
   "execution_count": 6,
   "metadata": {},
   "outputs": [],
   "source": [
    "def auto_clicker():\n",
    "    naver_page_open()\n",
    "    #google_page_open()\n",
    "    time.sleep(2)\n",
    "    driver.quit()\n",
    "    time.sleep(1)"
   ]
  },
  {
   "cell_type": "code",
   "execution_count": 7,
   "metadata": {},
   "outputs": [],
   "source": [
    "## 텍스트 정리후 비교 수식\n",
    "def volume_check(driver2):\n",
    "    try:\n",
    "        inVolume = True\n",
    "        check_text = driver2.find_element(By.XPATH, \"/html/body/table[2]/tbody/tr[2]/td[3]\").text.split(\"/\")\n",
    "        print(check_text)\n",
    "        if (check_text[2][-2:]) == \"GB\":\n",
    "            if (float(check_text[2][:-2]) >= 5.0):\n",
    "                inVolume = False\n",
    "    except:\n",
    "        logging.error(\"Error on volume_check function\")\n",
    "        inVolume = False\n",
    "    return inVolume"
   ]
  },
  {
   "cell_type": "code",
   "execution_count": null,
   "metadata": {},
   "outputs": [
    {
     "name": "stdout",
     "output_type": "stream",
     "text": [
      "['10GB', '10GB', '45.04MB']\n",
      "['10GB', '10GB', '45.04MB']\n",
      "['10GB', '10GB', '56.30MB']\n",
      "['10GB', '10GB', '61.60MB']\n",
      "['10GB', '10GB', '61.94MB']\n",
      "['10GB', '10GB', '67.56MB']\n",
      "['10GB', '10GB', '78.82MB']\n",
      "['10GB', '10GB', '84.45MB']\n"
     ]
    }
   ],
   "source": [
    "# ongidesignhaus.com/cband-me  의 사용량 실시관 확인후 5G 이상 넘으면 강제 다운\n",
    "clickCount = 0\n",
    "driver2 = webdriver.Chrome()\n",
    "driver2.get(\"https://ongidesignhaus.com/cband-me\")\n",
    "while volume_check(driver2):\n",
    "    try:\n",
    "        driver = webdriver.Chrome()\n",
    "        driver.get('https://search.naver.com/search.naver?nso=&page=2&query=%EC%98%A8%EA%B8%B0%EB%94%94%EC%9E%90%EC%9D%B8&sm=tab_pge&start=1&where=web')\n",
    "        auto_clicker()\n",
    "        clickCount += 1\n",
    "    except:\n",
    "        logging.error(\"Error while running ongi_macro\")\n",
    "        logging.info(\"{} clicks were done before error\".format(clickCount))\n",
    "driver2.quit()\n",
    "logging.info(\"Macro has been finished. Total : {} amount of clicks were performed.\".format(clickCount))"
   ]
  },
  {
   "cell_type": "code",
   "execution_count": null,
   "metadata": {},
   "outputs": [],
   "source": []
  },
  {
   "cell_type": "code",
   "execution_count": null,
   "metadata": {},
   "outputs": [],
   "source": []
  }
 ],
 "metadata": {
  "kernelspec": {
   "display_name": "Python 3 (ipykernel)",
   "language": "python",
   "name": "python3"
  },
  "language_info": {
   "codemirror_mode": {
    "name": "ipython",
    "version": 3
   },
   "file_extension": ".py",
   "mimetype": "text/x-python",
   "name": "python",
   "nbconvert_exporter": "python",
   "pygments_lexer": "ipython3",
   "version": "3.11.5"
  }
 },
 "nbformat": 4,
 "nbformat_minor": 4
}
