{
 "cells": [
  {
   "cell_type": "code",
   "execution_count": 1,
   "metadata": {},
   "outputs": [],
   "source": [
    "# 온기디자인 홈페티지 올리는 매크로 입니다.\n",
    "# 문의사항은 JKJIN1999 github repository 또는 jugyeongkim911@gmail.com 으로 문의 부탁드립니다."
   ]
  },
  {
   "cell_type": "code",
   "execution_count": 27,
   "metadata": {},
   "outputs": [],
   "source": [
    "import time\n",
    "import logging\n",
    "from selenium import webdriver\n",
    "from selenium.webdriver.common.by import By\n",
    "import selenium\n",
    "from datetime import datetime"
   ]
  },
  {
   "cell_type": "code",
   "execution_count": 28,
   "metadata": {},
   "outputs": [],
   "source": [
    "#로그 생성\n",
    "logging.basicConfig(\n",
    "    filename=\"./log.txt\",\n",
    "    format='%(asctime)s %(levelname)s:%(message)s',\n",
    "    level=logging.INFO,\n",
    "    datefmt='%m/%d/%Y %I:%M:%S %p',\n",
    ")"
   ]
  },
  {
   "cell_type": "code",
   "execution_count": 29,
   "metadata": {},
   "outputs": [],
   "source": [
    "logging.info(\"Started ongi_macro\")\n",
    "driver = webdriver.Chrome()\n",
    "driver2 = webdriver.Chrome()\n",
    "clickCount = 0\n",
    "driver2.get(\"https://ongidesignhaus.com/cband-me\")\n",
    "time.sleep(1)\n",
    "driver.get('https://search.naver.com/search.naver?nso=&page=2&query=%EC%98%A8%EA%B8%B0%EB%94%94%EC%9E%90%EC%9D%B8&sm=tab_pge&start=1&where=web')\n",
    "time.sleep(3)\n",
    "pageCollected = driver.find_elements(By.XPATH,'/html/body/div[3]/div[2]/div/div[1]/section/div/ul[@class=\"lst_total\"]/li')"
   ]
  },
  {
   "cell_type": "code",
   "execution_count": 30,
   "metadata": {},
   "outputs": [],
   "source": [
    "## 텍스트 정리후 비교 수식\n",
    "def volume_check():\n",
    "    try:\n",
    "        inVolume = True\n",
    "        check_text = driver2.find_element(By.XPATH, \"/html/body/table[2]/tbody/tr[2]/td[3]\").text.split(\"/\")\n",
    "        print(check_text)\n",
    "        if (check_text[2][-2:]) == \"GB\":\n",
    "            if (float(check_text[2][:-2]) >= 7.0):\n",
    "                logging.error(\"Error on volume_check function : Server Storage is Out!\")\n",
    "                inVolume = False\n",
    "    except:\n",
    "        logging.error(\"Error on volume_check function : Try Error!\")\n",
    "        inVolume = False\n",
    "    return inVolume"
   ]
  },
  {
   "cell_type": "code",
   "execution_count": 31,
   "metadata": {},
   "outputs": [],
   "source": [
    "def webpage_clicker(clickCount):\n",
    "    isFound = False\n",
    "    isError = False\n",
    "    for li in pageCollected:\n",
    "        li_element = li.find_element(By.CLASS_NAME, \"total_wrap\").find_element(By.CLASS_NAME, \"total_group\").find_element(By.CLASS_NAME, \"total_tit\").find_element(By.CLASS_NAME, \"link_tit\")\n",
    "        link_text = li_element.get_attribute('href')\n",
    "        if link_text == \"https://ongidesignhaus.com/\":   \n",
    "            isFound = True\n",
    "            while volume_check():\n",
    "                try:\n",
    "                    li_element.click()\n",
    "                    time.sleep(4)\n",
    "                    driver.switch_to.window(driver.window_handles[-1])\n",
    "                    driver.close()\n",
    "                    time.sleep(4)\n",
    "                    driver.switch_to.window(driver.window_handles[0])\n",
    "                    clickCount += 1\n",
    "                except:\n",
    "                    logging.error(\"Error while running ongi_macro\")\n",
    "                    logging.info(\"{} clicks were done before error\".format(clickCount))\n",
    "                    isError = True\n",
    "                    break\n",
    "    if(isFound==False):    \n",
    "        logging.error(\"Error on naver_page_open function: No page found!\")\n",
    "    else:\n",
    "        if(isError):\n",
    "            logging.error(\"There has been an error during while loop\")"
   ]
  },
  {
   "cell_type": "code",
   "execution_count": null,
   "metadata": {},
   "outputs": [
    {
     "name": "stdout",
     "output_type": "stream",
     "text": [
      "['10GB', '10GB', '5.04GB']\n",
      "['10GB', '10GB', '5.05GB']\n",
      "['10GB', '10GB', '5.05GB']\n",
      "['10GB', '10GB', '5.05GB']\n",
      "['10GB', '10GB', '5.05GB']\n",
      "['10GB', '10GB', '5.05GB']\n",
      "['10GB', '10GB', '5.05GB']\n",
      "['10GB', '10GB', '5.05GB']\n"
     ]
    }
   ],
   "source": [
    "# ongidesignhaus.com/cband-me  의 사용량 실시관 확인후 7G 이상 넘으면 강제 다운\n",
    "\n",
    "def main():\n",
    "    webpage_clicker(clickCount)\n",
    "    driver.quit()\n",
    "    driver2.quit()\n",
    "    logging.info(\"Macro has been finished. Total : {} amount of clicks were performed.\".format(clickCount))\n",
    "if __name__ == \"__main__\":\n",
    "    main()"
   ]
  },
  {
   "cell_type": "code",
   "execution_count": null,
   "metadata": {},
   "outputs": [],
   "source": []
  },
  {
   "cell_type": "code",
   "execution_count": null,
   "metadata": {},
   "outputs": [],
   "source": []
  }
 ],
 "metadata": {
  "kernelspec": {
   "display_name": "Python 3 (ipykernel)",
   "language": "python",
   "name": "python3"
  },
  "language_info": {
   "codemirror_mode": {
    "name": "ipython",
    "version": 3
   },
   "file_extension": ".py",
   "mimetype": "text/x-python",
   "name": "python",
   "nbconvert_exporter": "python",
   "pygments_lexer": "ipython3",
   "version": "3.11.5"
  }
 },
 "nbformat": 4,
 "nbformat_minor": 4
}
